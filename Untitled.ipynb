{
 "cells": [
  {
   "cell_type": "code",
   "execution_count": 17,
   "metadata": {},
   "outputs": [],
   "source": [
    "from mapbox import Directions\n",
    "service = Directions(access_token)"
   ]
  },
  {
   "cell_type": "code",
   "execution_count": 1,
   "metadata": {},
   "outputs": [],
   "source": [
    "access_token = \"pk.eyJ1IjoicHNhdmxhIiwiYSI6ImNrNWNlN3R2aDA2c2QzZ3FmZzc4NGR2dmUifQ.sS0RQiM5dIhFaLbw8rlqBw\""
   ]
  },
  {
   "cell_type": "code",
   "execution_count": 2,
   "metadata": {},
   "outputs": [],
   "source": [
    "origin = {'type': 'Feature',\n",
    "\t\t  'properties': {'name': 'Portland, OR'},\n",
    "\t\t  'geometry': {\n",
    "\t\t  'type': 'Point',\n",
    "\t\t  'coordinates': [-122.7282, 45.5801]}}\n",
    "destination = {\n",
    "\t\t  'type': 'Feature',\n",
    "\t\t  'properties': {'name': 'Bend, OR'},\n",
    "\t\t  'geometry': {\n",
    "\t\t  'type': 'Point',\n",
    "\t\t  'coordinates': [-121.3153, 44.0582]}}"
   ]
  },
  {
   "cell_type": "code",
   "execution_count": 8,
   "metadata": {},
   "outputs": [
    {
     "name": "stderr",
     "output_type": "stream",
     "text": [
      "C:\\Users\\prati\\AppData\\Local\\Continuum\\anaconda3\\lib\\site-packages\\mapbox\\services\\directions.py:42: MapboxDeprecationWarning: Converting v4 profile to v5, use mapbox/driving instead\n",
      "  errors.MapboxDeprecationWarning)\n"
     ]
    }
   ],
   "source": [
    "response = service.directions([origin, destination],'mapbox.driving')"
   ]
  },
  {
   "cell_type": "code",
   "execution_count": 9,
   "metadata": {},
   "outputs": [
    {
     "data": {
      "text/plain": [
       "<Response [200]>"
      ]
     },
     "execution_count": 9,
     "metadata": {},
     "output_type": "execute_result"
    }
   ],
   "source": [
    "response"
   ]
  },
  {
   "cell_type": "code",
   "execution_count": 10,
   "metadata": {},
   "outputs": [
    {
     "name": "stdout",
     "output_type": "stream",
     "text": [
      "response.status_code 200\n"
     ]
    }
   ],
   "source": [
    "print(\"response.status_code\",response.status_code)"
   ]
  },
  {
   "cell_type": "code",
   "execution_count": 12,
   "metadata": {},
   "outputs": [
    {
     "data": {
      "text/plain": [
       "{'features': [{'geometry': {'coordinates': [(-122.72833, 45.57993),\n",
       "     (-122.72798, 45.5798),\n",
       "     (-122.72771, 45.58016),\n",
       "     (-122.72621, 45.57961),\n",
       "     (-122.72406, 45.58247),\n",
       "     (-122.56561, 45.5615),\n",
       "     (-122.56663, 45.55831),\n",
       "     (-122.56411, 45.55143),\n",
       "     (-122.54908, 45.5474),\n",
       "     (-122.42422, 45.54006),\n",
       "     (-122.41838, 45.53942),\n",
       "     (-122.41303, 45.5297),\n",
       "     (-122.41327, 45.52431),\n",
       "     (-122.41395, 45.5017),\n",
       "     (-122.40648, 45.49445),\n",
       "     (-122.40572, 45.4937),\n",
       "     (-122.4049, 45.49284),\n",
       "     (-122.33745, 45.42852),\n",
       "     (-122.22181, 45.37589),\n",
       "     (-122.04749, 45.37969),\n",
       "     (-121.8712, 45.30526),\n",
       "     (-121.73456, 45.30039),\n",
       "     (-121.66229, 45.15901),\n",
       "     (-121.55877, 45.1071),\n",
       "     (-121.51365, 45.05603),\n",
       "     (-121.42422, 44.86716),\n",
       "     (-121.32095, 44.78582),\n",
       "     (-121.22736, 44.76025),\n",
       "     (-121.2387, 44.73101),\n",
       "     (-121.17692, 44.72112),\n",
       "     (-121.1297, 44.63882),\n",
       "     (-121.19955, 44.45997),\n",
       "     (-121.16933, 44.27436),\n",
       "     (-121.25844, 44.16117),\n",
       "     (-121.30724, 44.05795),\n",
       "     (-121.31038, 44.05794),\n",
       "     (-121.31074, 44.05812),\n",
       "     (-121.31211, 44.05717),\n",
       "     (-121.31302, 44.0575),\n",
       "     (-121.31347, 44.05709),\n",
       "     (-121.31534, 44.05817)],\n",
       "    'type': 'LineString'},\n",
       "   'properties': {'distance': 264912.4, 'duration': 13420},\n",
       "   'type': 'Feature'}],\n",
       " 'type': 'FeatureCollection'}"
      ]
     },
     "execution_count": 12,
     "metadata": {},
     "output_type": "execute_result"
    }
   ],
   "source": [
    "response.geojson()"
   ]
  },
  {
   "cell_type": "code",
   "execution_count": 13,
   "metadata": {},
   "outputs": [],
   "source": [
    "origin = {'type': 'Feature',\n",
    "\t\t  'properties': {'name': 'Portland, OR'},\n",
    "\t\t  'geometry': {\n",
    "\t\t  'type': 'Point',\n",
    "\t\t  'coordinates': [12.9917363,80.1638583]}}\n",
    "destination = {\n",
    "\t\t  'type': 'Feature',\n",
    "\t\t  'properties': {'name': 'Bend, OR'},\n",
    "\t\t  'geometry': {\n",
    "\t\t  'type': 'Point',\n",
    "\t\t  'coordinates': [12.8233277,80.0402123]}}"
   ]
  },
  {
   "cell_type": "code",
   "execution_count": 139,
   "metadata": {},
   "outputs": [],
   "source": [
    "response = service.directions([[-73.9877313,40.7579787],[-73.7803278,40.6413151]],\n",
    "                              'mapbox/driving-traffic',\n",
    "                              overview='full',\n",
    "                             annotations=['speed','distance'])"
   ]
  },
  {
   "cell_type": "code",
   "execution_count": 140,
   "metadata": {},
   "outputs": [
    {
     "name": "stdout",
     "output_type": "stream",
     "text": [
      "4.7\n"
     ]
    }
   ],
   "source": [
    "#print(response.json()['routes'][0]['legs'][0]['annotation']['distance'])\n",
    "d = response.json()['routes'][0]['legs'][0]['annotation']['distance']\n",
    "print(response.json()['routes'][0]['legs'][0]['annotation']['speed'][1])\n",
    "s = len(response.json()['routes'][0]['legs'][0]['annotation']['speed'])"
   ]
  },
  {
   "cell_type": "code",
   "execution_count": 141,
   "metadata": {},
   "outputs": [
    {
     "data": {
      "text/plain": [
       "[(-73.98768, 40.75804), (-73.98719, 40.75784)]"
      ]
     },
     "execution_count": 141,
     "metadata": {},
     "output_type": "execute_result"
    }
   ],
   "source": [
    "response.geojson()['features'][0]['geometry']['coordinates'][0:2]"
   ]
  },
  {
   "cell_type": "code",
   "execution_count": 142,
   "metadata": {},
   "outputs": [
    {
     "data": {
      "text/plain": [
       "622"
      ]
     },
     "execution_count": 142,
     "metadata": {},
     "output_type": "execute_result"
    }
   ],
   "source": [
    "s"
   ]
  },
  {
   "cell_type": "code",
   "execution_count": 14,
   "metadata": {},
   "outputs": [
    {
     "data": {
      "text/plain": [
       "{'message': 'Not Authorized - No Token'}"
      ]
     },
     "execution_count": 14,
     "metadata": {},
     "output_type": "execute_result"
    }
   ],
   "source": [
    "response.json()"
   ]
  },
  {
   "cell_type": "code",
   "execution_count": 15,
   "metadata": {},
   "outputs": [
    {
     "data": {
      "text/plain": [
       "{'Content-Type': 'application/json; charset=utf-8', 'Transfer-Encoding': 'chunked', 'Connection': 'keep-alive', 'Date': 'Mon, 13 Jan 2020 12:05:52 GMT', 'X-Powered-By': 'Express', 'Access-Control-Allow-Origin': '*', 'Access-Control-Expose-Headers': 'x-rate-limit-interval,x-rate-limit-limit,x-rate-limit-remaining,x-rate-limit-reset', 'Cache-Control': 'max-age=604800', 'ETag': 'W/\"27-f4bcddab\"', 'Content-Encoding': 'gzip', 'Vary': 'Accept-Encoding', 'X-Cache': 'Error from cloudfront', 'Via': '1.1 bd2d90f72f6306ec273a5dae120fe042.cloudfront.net (CloudFront)', 'X-Amz-Cf-Pop': 'BOM51-C2', 'X-Amz-Cf-Id': 'QewOWfMOQiJQjL2mLfVRPKaL4M6rWFaY8BgiYfO2dSg7-gSon0zIkg=='}"
      ]
     },
     "execution_count": 15,
     "metadata": {},
     "output_type": "execute_result"
    }
   ],
   "source": [
    "response.headers"
   ]
  },
  {
   "cell_type": "code",
   "execution_count": 16,
   "metadata": {},
   "outputs": [
    {
     "data": {
      "text/plain": [
       "401"
      ]
     },
     "execution_count": 16,
     "metadata": {},
     "output_type": "execute_result"
    }
   ],
   "source": [
    "response = geocoder.forward(\"200 queen street\", country=['us'])\n",
    "response.status_code"
   ]
  },
  {
   "cell_type": "code",
   "execution_count": null,
   "metadata": {},
   "outputs": [],
   "source": [
    "https://api.mapbox.com/directions/v5/mapbox/driving/-73.989%2C40.733%3B-74%2C40.733.json?access_token=pk.eyJ1IjoicHNhdmxhIiwiYSI6ImNrNWNjYXhyazAzM2UzbG1zNnJ5ZGZyOXQifQ.2tOxEZV_C_5vjuanmlmGSg"
   ]
  }
 ],
 "metadata": {
  "kernelspec": {
   "display_name": "Python 3",
   "language": "python",
   "name": "python3"
  },
  "language_info": {
   "codemirror_mode": {
    "name": "ipython",
    "version": 3
   },
   "file_extension": ".py",
   "mimetype": "text/x-python",
   "name": "python",
   "nbconvert_exporter": "python",
   "pygments_lexer": "ipython3",
   "version": "3.6.4"
  }
 },
 "nbformat": 4,
 "nbformat_minor": 2
}
